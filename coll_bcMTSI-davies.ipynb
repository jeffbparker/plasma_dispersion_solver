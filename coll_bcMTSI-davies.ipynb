{
 "cells": [
  {
   "cell_type": "markdown",
   "id": "steady-capital",
   "metadata": {},
   "source": [
    "# cbcMTSI - Collisional Beam-Core Modified Two-Stream Instability - Davies method\n",
    "Or CBCLH instability: Collisional Beam-Core Lower Hybrid Instability\n",
    "Solve in ordinary precision arithmetic.  Allow complex $\\omega$.\n",
    "\n",
    "Here, use the Davies method with squircle contour to find roots of $D(\\omega)$ for given parameters and wavevector $\\mathbf{k}$."
   ]
  },
  {
   "cell_type": "code",
   "execution_count": 1,
   "id": "technological-correspondence",
   "metadata": {},
   "outputs": [
    {
     "data": {
      "text/plain": [
       "Main.C:\\Users\\jacot\\Documents\\Plasma Physics\\Other\\Jupyter Notebooks\\Julia notebooks\\dispersion_tools_mtsi.jl.dispersion_tools_mtsi"
      ]
     },
     "execution_count": 1,
     "metadata": {},
     "output_type": "execute_result"
    }
   ],
   "source": [
    "import Parameters\n",
    "import PyPlot as plt\n",
    "import QuadGK   # Note.  QuadGK seems to work with BigFloat, but NOT ArbComplex\n",
    "import Roots    # for find_zero.  Parts of it work with univariate complex functions\n",
    "                #  Note.  Looks like Roots works with BigFloat, but NOT ArbComplex\n",
    "using Printf\n",
    "\n",
    "using FromFile\n",
    "@from \"tools.jl\" import tools\n",
    "@from \"dispersion_tools_mtsi.jl\" import dispersion_tools_mtsi\n",
    "\n",
    "pd = dispersion_tools_mtsi\n"
   ]
  },
  {
   "cell_type": "code",
   "execution_count": 238,
   "id": "floral-minnesota",
   "metadata": {},
   "outputs": [
    {
     "data": {
      "image/png": "[encoded data removed]",
      "text/plain": [
       "PyPlot.Figure(PyObject <Figure size 640x480 with 1 Axes>)"
      ]
     },
     "metadata": {},
     "output_type": "display_data"
    },
    {
     "data": {
      "text/plain": [
       "1-element Vector{PyCall.PyObject}:\n",
       " PyObject <matplotlib.lines.Line2D object at 0x0000000001C573A0>"
      ]
     },
     "execution_count": 238,
     "metadata": {},
     "output_type": "execute_result"
    }
   ],
   "source": [
    "# squircle parameters\n",
    "#a = 0.996  # squareness\n",
    "a = 0.996  # squareness\n",
    "Rx = 10   # center of recturcle in x  (omega_r)\n",
    "rx = 15    # half-length of recturcle in x (omega_r)\n",
    "Ry = 1.0  # with small epsilon, max of squircle in y goes to 2*Ry (omega_i)\n",
    "epsilon = 1e-5    # bottom of squircle in omega_i\n",
    "\n",
    "# Ry = 0.15  # with small epsilon, max of squircle in y goes to 2*Ry (omega_i)\n",
    "# epsilon = 1e-4    # bottom of squircle in omega_i\n",
    "\n",
    "smallnum = 1e-4   # small number in how squircle is parameterized\n",
    "params = tools.Sqparams(a, Rx, Ry, rx, epsilon, smallnum);\n",
    "\n",
    "visualize = true\n",
    "if visualize\n",
    "    N = 500\n",
    "    theta = tools.theta_circle(N)\n",
    "    points_on_squircle = zeros(ComplexF64, N)\n",
    "    for j = 1:N\n",
    "        points_on_squircle[j] = tools.gamma(theta[j], params)\n",
    "    end\n",
    "    z = points_on_squircle;\n",
    "    plt.plot(real(z), imag(z)) \n",
    "end"
   ]
  },
  {
   "cell_type": "code",
   "execution_count": 267,
   "id": "accurate-copying",
   "metadata": {},
   "outputs": [
    {
     "data": {
      "text/plain": [
       "DDprime (generic function with 1 method)"
      ]
     },
     "execution_count": 267,
     "metadata": {},
     "output_type": "execute_result"
    }
   ],
   "source": [
    "#nu = 1e2    # nu_ei / omega_LHb\n",
    "nu = 100\n",
    "mu = 1836\n",
    "eta = 100\n",
    "tau_e = 1\n",
    "tau_b = 2   # T_beam / T_core\n",
    "u = 15\n",
    "sigma = 1e-2\n",
    "\n",
    "khat = 1\n",
    "kxhat = khat\n",
    "function D(omegahat)\n",
    "    D, Dprime = dispersion_tools_mtsi.D_coll_bcMTSI(omegahat, kxhat, nu, mu, eta, tau_e, tau_b, u, sigma)\n",
    "    return D\n",
    "end\n",
    "function Dprime(omegahat)\n",
    "    D, Dprime = dispersion_tools_mtsi.D_coll_bcMTSI(omegahat, kxhat, nu, mu, eta, tau_e, tau_b, u, sigma)\n",
    "    return Dprime\n",
    "end\n",
    "function DDprime(omegahat)\n",
    "    D, Dprime = dispersion_tools_mtsi.D_coll_bcMTSI(omegahat, kxhat, nu, mu, eta, tau_e, tau_b, u, sigma)\n",
    "    return D, Dprime\n",
    "end"
   ]
  },
  {
   "cell_type": "code",
   "execution_count": 268,
   "id": "express-tattoo",
   "metadata": {},
   "outputs": [
    {
     "name": "stdout",
     "output_type": "stream",
     "text": [
      "Number of zeros found: 1\n"
     ]
    },
    {
     "data": {
      "text/plain": [
       "1-element Vector{ComplexF64}:\n",
       " 0.9550336057121588 + 0.018249899424518302im"
      ]
     },
     "execution_count": 268,
     "metadata": {},
     "output_type": "execute_result"
    }
   ],
   "source": [
    "Npts = 20000\n",
    "num_zeros = tools.count_zeros_inside_sq_contour(D, Npts, params)\n",
    "println(\"Number of zeros found: \", num_zeros)\n",
    "if num_zeros != 0\n",
    "    roots = tools.all_roots(DDprime, num_zeros, Npts, params)\n",
    "end"
   ]
  },
  {
   "cell_type": "code",
   "execution_count": 244,
   "id": "unique-bennett",
   "metadata": {},
   "outputs": [
    {
     "name": "stdout",
     "output_type": "stream",
     "text": [
      "Before refining: D(ω) = -0.00018346810534502697 + 0.00017698578555108515im\n",
      "2.8417338393091134 - 9.825566288003216e-5im\n",
      "After refining: D(ω) = -2.3071822230491534e-16 + 6.057079666256298e-19im\n"
     ]
    }
   ],
   "source": [
    "# refine the root\n",
    "println(\"Before refining: D(ω) = \", D(roots[1]))\n",
    "newroot = Roots.find_zero(D, roots[1], Roots.Secant())\n",
    "omegahat = newroot\n",
    "println(newroot)\n",
    "println(\"After refining: D(ω) = \", D(newroot))\n"
   ]
  },
  {
   "cell_type": "code",
   "execution_count": null,
   "id": "cardiovascular-intake",
   "metadata": {},
   "outputs": [],
   "source": [
    "# omegaguess = 12.785102354806147 + 0.16274564851058204im\n",
    "# Roots.find_zero((D,Dprime), omegaguess, Roots.Newton())"
   ]
  },
  {
   "cell_type": "code",
   "execution_count": 270,
   "id": "local-survivor",
   "metadata": {},
   "outputs": [
    {
     "name": "stdout",
     "output_type": "stream",
     "text": [
      "ub = 10.61\n",
      "ue = 0.35\n",
      "ω_LHb^2 / Ω_e^2 = 5.34e-06\n",
      "k^2 λ_De^2 = 2.18e-07\n",
      "ζ_b = 1.95e+01 + i*-1.04e-03\n",
      "ζ_c = 4.26e+01 + i*-1.47e-03\n",
      "λ = 2.18e-05\n"
     ]
    }
   ],
   "source": [
    "#computed_derived_paramaters = pd.compute_derived_parameters\n",
    "# omegahat = roots[1]\n",
    "coll_bcMTSI_compute_derived_parameters(omegahat, kxhat, nu, mu, eta, tau_e, tau_b, u, sigma)"
   ]
  },
  {
   "cell_type": "code",
   "execution_count": 269,
   "id": "immune-assumption",
   "metadata": {},
   "outputs": [
    {
     "data": {
      "text/plain": [
       "coll_bcMTSI_compute_derived_parameters (generic function with 1 method)"
      ]
     },
     "execution_count": 269,
     "metadata": {},
     "output_type": "execute_result"
    }
   ],
   "source": [
    "function coll_bcMTSI_compute_derived_parameters(omegahat, kxhat, nu, mu, eta, tau_e, tau_b, u, sigma)\n",
    "    kzhat=0  # assumption required for now\n",
    "    khat = sqrt(kxhat^2 + kzhat^2)\n",
    "    ub = u / sqrt(tau_b)\n",
    "    ue = u / sqrt(mu * tau_e)\n",
    "    vteSq_over_USq = 1 / (2 * ue^2)\n",
    "\n",
    "    omegaLHbSq_over_OmegaeSq = 1 / (mu * (sigma+1) * (eta+1))\n",
    "    omegaLHbSq_over_omegapeSq = sigma / (mu * (sigma+1) * (eta+1))\n",
    "    kSq_times_lambdaDeSq = khat^2 * vteSq_over_USq * omegaLHbSq_over_omegapeSq\n",
    "    lambdaDeSq_over_lambdaDbSq = tau_e / (tau_b * (eta + 1))\n",
    "    lambdaDeSq_over_lambdaDcSq = tau_e * eta / (eta + 1)\n",
    "\n",
    "    zeta_b = (omegahat - kxhat) / (khat / ub)\n",
    "    zeta_c = omegahat / (khat / u)\n",
    "    \n",
    "    lambda = kxhat^2 * vteSq_over_USq * omegaLHbSq_over_OmegaeSq\n",
    "    \n",
    "    println(\"ub = $(@sprintf(\"%.2f\", ub))\")\n",
    "    println(\"ue = $(@sprintf(\"%.2f\", ue))\")\n",
    "    println(\"ω_LHb^2 / Ω_e^2 = $(@sprintf(\"%.2e\", omegaLHbSq_over_OmegaeSq))\")\n",
    "    println(\"k^2 λ_De^2 = $(@sprintf(\"%.2e\", kSq_times_lambdaDeSq))\")\n",
    "    println(\"ζ_b = $(@sprintf(\"%.2e\", real(zeta_b))) + i*$(@sprintf(\"%.2e\", imag(zeta_b)))\")\n",
    "    println(\"ζ_c = $(@sprintf(\"%.2e\", real(zeta_c))) + i*$(@sprintf(\"%.2e\", imag(zeta_c)))\")\n",
    "    println(\"λ = $(@sprintf(\"%.2e\", lambda))\")\n",
    "end"
   ]
  },
  {
   "cell_type": "code",
   "execution_count": null,
   "id": "fixed-explorer",
   "metadata": {},
   "outputs": [],
   "source": []
  }
 ],
 "metadata": {
  "kernelspec": {
   "display_name": "Julia 1.7.2",
   "language": "julia",
   "name": "julia-1.7"
  },
  "language_info": {
   "file_extension": ".jl",
   "mimetype": "application/julia",
   "name": "julia",
   "version": "1.7.2"
  }
 },
 "nbformat": 4,
 "nbformat_minor": 5
}
