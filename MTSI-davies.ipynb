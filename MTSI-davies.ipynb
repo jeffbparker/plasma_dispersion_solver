{
 "cells": [
  {
   "cell_type": "markdown",
   "id": "emerging-louisiana",
   "metadata": {},
   "source": [
    "# MTSI - Modified Two-Stream Instability - Davies method\n",
    "Solve in ordinary precision arithmetic.  Allow complex $\\omega$.\n",
    "\n",
    "Here, use the Davies method with squircle contour to find roots of $D(\\omega)$ for given parameters and wavevector $\\mathbf{k}$."
   ]
  },
  {
   "cell_type": "code",
   "execution_count": 1,
   "id": "least-eclipse",
   "metadata": {},
   "outputs": [
    {
     "data": {
      "text/plain": [
       "Main.C:\\Users\\jacot\\Documents\\Plasma Physics\\Other\\Jupyter Notebooks\\Julia notebooks\\dispersion_tools_mtsi.jl.dispersion_tools_mtsi"
      ]
     },
     "execution_count": 1,
     "metadata": {},
     "output_type": "execute_result"
    }
   ],
   "source": [
    "import Parameters\n",
    "import PyPlot as plt\n",
    "import QuadGK   # Note.  QuadGK seems to work with BigFloat, but NOT ArbComplex\n",
    "import Roots    # for find_zero.  Parts of it work with univariate complex functions\n",
    "                #  Note.  Looks like Roots works with BigFloat, but NOT ArbComplex\n",
    "\n",
    "using FromFile\n",
    "@from \"tools.jl\" import tools\n",
    "@from \"dispersion_tools_mtsi.jl\" import dispersion_tools_mtsi\n",
    "\n",
    "pd = dispersion_tools_mtsi"
   ]
  },
  {
   "cell_type": "code",
   "execution_count": 42,
   "id": "reverse-sleep",
   "metadata": {},
   "outputs": [
    {
     "data": {
      "image/png": "[encoded data removed]",
      "text/plain": [
       "PyPlot.Figure(PyObject <Figure size 640x480 with 1 Axes>)"
      ]
     },
     "metadata": {},
     "output_type": "display_data"
    },
    {
     "data": {
      "text/plain": [
       "1-element Vector{PyCall.PyObject}:\n",
       " PyObject <matplotlib.lines.Line2D object at 0x000000000154EB50>"
      ]
     },
     "execution_count": 42,
     "metadata": {},
     "output_type": "execute_result"
    }
   ],
   "source": [
    "# squircle parameters\n",
    "a = 0.996  # squareness\n",
    "Rx = 1   # center of recturcle in x  (omega_r)\n",
    "rx = 1.1    # half-length of recturcle in x (omega_r)\n",
    "Ry = 0.75  # with small epsilon, max of squircle in y goes to 2*Ry (omega_i)\n",
    "epsilon = 1e-4\n",
    "smallnum = 1e-4\n",
    "params = tools.Sqparams(a, Rx, Ry, rx, epsilon, smallnum);\n",
    "\n",
    "visualize = true\n",
    "if visualize\n",
    "    N = 500\n",
    "    theta = tools.theta_circle(N)\n",
    "    points_on_squircle = zeros(ComplexF64, N)\n",
    "    for j = 1:N\n",
    "        points_on_squircle[j] = tools.gamma(theta[j], params)\n",
    "    end\n",
    "    z = points_on_squircle;\n",
    "    plt.plot(real(z), imag(z)) \n",
    "end"
   ]
  },
  {
   "cell_type": "code",
   "execution_count": 52,
   "id": "delayed-missouri",
   "metadata": {},
   "outputs": [
    {
     "data": {
      "text/plain": [
       "14.142135623730951"
      ]
     },
     "execution_count": 52,
     "metadata": {},
     "output_type": "execute_result"
    }
   ],
   "source": [
    "ui"
   ]
  },
  {
   "cell_type": "code",
   "execution_count": 75,
   "id": "novel-studio",
   "metadata": {},
   "outputs": [
    {
     "data": {
      "text/plain": [
       "DDprime (generic function with 1 method)"
      ]
     },
     "execution_count": 75,
     "metadata": {},
     "output_type": "execute_result"
    }
   ],
   "source": [
    "mu = 1836\n",
    "tau = 1\n",
    "ui = sqrt(2) * 10\n",
    "sigma = 1\n",
    "\n",
    "k = 2.0\n",
    "phi = sqrt(1/mu)\n",
    "\n",
    "kxhat = k * cos(phi)\n",
    "kzhat = k * sin(phi)\n",
    "function D(omegahat)\n",
    "    D, Dprime = dispersion_tools_mtsi.D_MTSI(omegahat, kxhat, kzhat, mu, tau, ui, sigma)\n",
    "    return D\n",
    "end\n",
    "\n",
    "function Dprime(omegahat)\n",
    "    D, Dprime = dispersion_tools_mtsi.D_MTSI(omegahat, kxhat, kzhat, mu, tau, ui, sigma)\n",
    "    return Dprime\n",
    "end\n",
    "\n",
    "function DDprime(omegahat)\n",
    "    D, Dprime = dispersion_tools_mtsi.D_MTSI(omegahat, kxhat, kzhat, mu, tau, ui, sigma)\n",
    "    return D, Dprime\n",
    "end"
   ]
  },
  {
   "cell_type": "code",
   "execution_count": 77,
   "id": "corrected-title",
   "metadata": {},
   "outputs": [
    {
     "data": {
      "text/plain": [
       "1.7320508075688772"
      ]
     },
     "execution_count": 77,
     "metadata": {},
     "output_type": "execute_result"
    }
   ],
   "source": [
    "sqrt(3)"
   ]
  },
  {
   "cell_type": "code",
   "execution_count": 76,
   "id": "square-purse",
   "metadata": {},
   "outputs": [
    {
     "name": "stdout",
     "output_type": "stream",
     "text": [
      "Number of zeros found: 1\n"
     ]
    },
    {
     "data": {
      "text/plain": [
       "1-element Vector{ComplexF64}:\n",
       " 0.9985836597354215 + 0.4821179240866908im"
      ]
     },
     "execution_count": 76,
     "metadata": {},
     "output_type": "execute_result"
    }
   ],
   "source": [
    "Npts = 20000\n",
    "num_zeros = tools.count_zeros_inside_sq_contour(D, Npts, params)\n",
    "println(\"Number of zeros found: \", num_zeros)\n",
    "if num_zeros != 0\n",
    "    roots = tools.all_roots(DDprime, num_zeros, Npts, params)\n",
    "end"
   ]
  },
  {
   "cell_type": "markdown",
   "id": "fuzzy-german",
   "metadata": {},
   "source": [
    "## Refine the root"
   ]
  },
  {
   "cell_type": "code",
   "execution_count": 46,
   "id": "particular-flash",
   "metadata": {},
   "outputs": [
    {
     "name": "stdout",
     "output_type": "stream",
     "text": [
      "Before refining: D(ω) = -1.8537012322046922e-7 + 4.7529059397184367e-7im\n",
      "0.08914944027362541 + 0.15509263778675217im\n",
      "After refining: D(ω) = 3.0791341698588326e-17 + 3.859759734048396e-17im\n"
     ]
    }
   ],
   "source": [
    "println(\"Before refining: D(ω) = \", D(roots[1]))\n",
    "newroot = Roots.find_zero(D, roots[1], Roots.Secant())\n",
    "println(newroot)\n",
    "println(\"After refining: D(ω) = \", D(newroot))"
   ]
  },
  {
   "cell_type": "code",
   "execution_count": null,
   "id": "smooth-narrow",
   "metadata": {},
   "outputs": [],
   "source": []
  },
  {
   "cell_type": "code",
   "execution_count": 78,
   "id": "adolescent-geneva",
   "metadata": {},
   "outputs": [
    {
     "data": {
      "text/plain": [
       "0.004997277182845639"
      ]
     },
     "execution_count": 78,
     "metadata": {},
     "output_type": "execute_result"
    }
   ],
   "source": [
    "omegahat = 0.9985836597354215 + 0.4821179240866908im\n",
    "khat = sqrt(kxhat^2 + kzhat^2)\n",
    "ue = ui / sqrt(mu*tau)\n",
    "vteSq_over_USq = tau*mu / (2*ui^2)\n",
    "omegaLHSq_over_OmegaeSq = 1 / (mu * (sigma+1))\n",
    "omegaLHSq_over_omegapeSq = sigma / (mu * (sigma+1))\n",
    "kSq_times_lambdaDeSq = khat^2 * vteSq_over_USq * omegaLHSq_over_omegapeSq\n",
    "\n",
    "zeta_e = omegahat / (kzhat / ue)\n",
    "zeta_i = (omegahat - kxhat) / (khat / ui)\n",
    "lambda = kxhat^2 * vteSq_over_USq * omegaLHSq_over_OmegaeSq"
   ]
  },
  {
   "cell_type": "code",
   "execution_count": 82,
   "id": "conservative-strap",
   "metadata": {},
   "outputs": [
    {
     "data": {
      "text/plain": [
       "0.004997277182845639"
      ]
     },
     "execution_count": 82,
     "metadata": {},
     "output_type": "execute_result"
    }
   ],
   "source": [
    "lambda"
   ]
  },
  {
   "cell_type": "code",
   "execution_count": null,
   "id": "uniform-palmer",
   "metadata": {},
   "outputs": [],
   "source": []
  }
 ],
 "metadata": {
  "kernelspec": {
   "display_name": "Julia 1.7.2",
   "language": "julia",
   "name": "julia-1.7"
  },
  "language_info": {
   "file_extension": ".jl",
   "mimetype": "application/julia",
   "name": "julia",
   "version": "1.7.2"
  }
 },
 "nbformat": 4,
 "nbformat_minor": 5
}
