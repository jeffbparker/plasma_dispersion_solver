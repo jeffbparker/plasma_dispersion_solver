{
 "cells": [
  {
   "cell_type": "markdown",
   "id": "global-glossary",
   "metadata": {},
   "source": [
    "# $\\alpha$ ion-ion streaming instability - Davies method\n",
    "Solve in ordinary precision arithmetic.  Allow complex $\\omega$.\n",
    "\n",
    "Here, use the Davies method with squircle contour to find roots of $D(\\omega)$ for given parameters and wavevector $\\mathbf{k}$.\n",
    "\n",
    "*Note:* Sometimes many points are required on the contour (100,000).  Additionally, the loss of precision is definitely noticeable here, where the solved-for roots are not exact (and may need to be refined with a local Newton solver)."
   ]
  },
  {
   "cell_type": "code",
   "execution_count": null,
   "id": "handy-boating",
   "metadata": {},
   "outputs": [],
   "source": [
    "import Parameters\n",
    "import PyPlot as plt\n",
    "import QuadGK   # Note.  QuadGK seems to work with BigFloat, but NOT ArbComplex\n",
    "import Roots    # for find_zero.  Parts of it work with univariate complex functions\n",
    "                #  Note.  Looks like Roots works with BigFloat, but NOT ArbComplex\n",
    "\n",
    "using FromFile\n",
    "@from \"tools.jl\" import tools\n",
    "@from \"plasma_dispersion_tools.jl\" import plasma_dispersion_tools\n",
    "\n",
    "pd = plasma_dispersion_tools"
   ]
  },
  {
   "cell_type": "code",
   "execution_count": null,
   "id": "light-celebration",
   "metadata": {},
   "outputs": [],
   "source": [
    "# squircle parameters\n",
    "a = 0.996  # squareness\n",
    "Rx = 0.0   # center of recturcle in x  (omega_r)\n",
    "rx = 4.6    # half-length of recturcle in x (omega_r)\n",
    "Ry = 0.01  # with small epsilon, max of squircle in y goes to 2*Ry (omega_i)\n",
    "epsilon = 1e-5\n",
    "smallnum = 1e-4\n",
    "params = tools.Sqparams(a, Rx, Ry, rx, epsilon, smallnum);\n",
    "\n",
    "visualize = true\n",
    "if visualize\n",
    "    N = 500\n",
    "    theta = tools.theta_circle(N)\n",
    "    points_on_squircle = zeros(ComplexF64, N)\n",
    "    for j = 1:N\n",
    "        points_on_squircle[j] = tools.gamma(theta[j], params)\n",
    "    end\n",
    "    z = points_on_squircle;\n",
    "    plt.plot(real(z), imag(z)) \n",
    "end"
   ]
  },
  {
   "cell_type": "code",
   "execution_count": null,
   "id": "three-protection",
   "metadata": {},
   "outputs": [],
   "source": [
    "# tau_e = 1\n",
    "# tau_alpha = 0.001\n",
    "# nu_alpha = 0.01\n",
    "# nu_d = 0.5 - nu_alpha\n",
    "# ui = 10\n",
    "# k = 0.01\n",
    "# #phi = 89.6 * pi/180\n",
    "# phi = 20 * pi/180\n",
    "# kparallelhat = k * cos(phi)\n",
    "# kperphat = k * sin(phi)\n",
    "# # instability at omega = 0.033 + 0.00026im"
   ]
  },
  {
   "cell_type": "code",
   "execution_count": null,
   "id": "catholic-inspection",
   "metadata": {},
   "outputs": [],
   "source": [
    "tau_e = 1\n",
    "tau_alpha = 0.001\n",
    "nu_alpha = 0.01\n",
    "nu_d = 0.5 - nu_alpha\n",
    "ui = 20\n",
    "k = 0.4\n",
    "#phi = 89.6 * pi/180\n",
    "phi = 83.6 * pi/180\n",
    "kparallelhat = k * cos(phi)\n",
    "kperphat = k * sin(phi)\n",
    "#kparallelhat = 0.23 / 150\n",
    "#kperphat = 0.93 / 150\n",
    "\n",
    "function D(omegahat)\n",
    "    D, Dprime = pd.DDprime_aiisi(omegahat, kparallelhat, kperphat, nu_d, nu_alpha, tau_e, tau_alpha, ui)\n",
    "    return D\n",
    "end\n",
    "\n",
    "function Dprime(omegahat)\n",
    "    D, Dprime = pd.DDprime_aiisi(omegahat, kparallelhat, kperphat, nu_d, nu_alpha, tau_e, tau_alpha, ui)\n",
    "    return Dprime\n",
    "end\n",
    "\n",
    "function DDprime(omegahat)\n",
    "    D, Dprime = pd.DDprime_aiisi(omegahat, kparallelhat, kperphat, nu_d, nu_alpha, tau_e, tau_alpha, ui)\n",
    "    return D, Dprime\n",
    "end"
   ]
  },
  {
   "cell_type": "code",
   "execution_count": null,
   "id": "natural-description",
   "metadata": {},
   "outputs": [],
   "source": [
    "Npts = 200000\n",
    "num_zeros = tools.count_zeros_inside_sq_contour(D, Npts, params)\n",
    "println(\"Number of zeros found: \", num_zeros)\n",
    "if num_zeros != 0\n",
    "    roots = tools.all_roots(DDprime, num_zeros, Npts, params)\n",
    "end"
   ]
  },
  {
   "cell_type": "markdown",
   "id": "middle-payday",
   "metadata": {},
   "source": [
    "## Refine the root"
   ]
  },
  {
   "cell_type": "code",
   "execution_count": null,
   "id": "blocked-serve",
   "metadata": {},
   "outputs": [],
   "source": [
    "println(\"Before refining: D(ω) = \", D(roots[2]))\n",
    "newroot = Roots.find_zero(D, roots[2], Roots.Secant())\n",
    "println(newroot)\n",
    "println(\"After refining: D(ω) = \", D(newroot))"
   ]
  },
  {
   "cell_type": "code",
   "execution_count": null,
   "id": "broad-glossary",
   "metadata": {},
   "outputs": [],
   "source": []
  }
 ],
 "metadata": {
  "kernelspec": {
   "display_name": "Julia 1.7.2",
   "language": "julia",
   "name": "julia-1.7"
  },
  "language_info": {
   "file_extension": ".jl",
   "mimetype": "application/julia",
   "name": "julia",
   "version": "1.7.2"
  }
 },
 "nbformat": 4,
 "nbformat_minor": 5
}
