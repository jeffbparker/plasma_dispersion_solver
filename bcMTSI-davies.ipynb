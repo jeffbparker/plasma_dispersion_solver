{
 "cells": [
  {
   "cell_type": "markdown",
   "id": "acquired-reservoir",
   "metadata": {},
   "source": [
    "# bcMTSI - Beam-Core Modified Two-Stream Instability - Davies method\n",
    "Solve in ordinary precision arithmetic.  Allow complex $\\omega$.\n",
    "\n",
    "Here, use the Davies method with squircle contour to find roots of $D(\\omega)$ for given parameters and wavevector $\\mathbf{k}$."
   ]
  },
  {
   "cell_type": "code",
   "execution_count": 1,
   "id": "musical-mountain",
   "metadata": {},
   "outputs": [
    {
     "data": {
      "text/plain": [
       "Main.C:\\Users\\jacot\\Documents\\Plasma Physics\\Other\\Jupyter Notebooks\\Julia notebooks\\dispersion_tools_mtsi.jl.dispersion_tools_mtsi"
      ]
     },
     "execution_count": 1,
     "metadata": {},
     "output_type": "execute_result"
    }
   ],
   "source": [
    "import Parameters\n",
    "import PyPlot as plt\n",
    "import QuadGK   # Note.  QuadGK seems to work with BigFloat, but NOT ArbComplex\n",
    "import Roots    # for find_zero.  Parts of it work with univariate complex functions\n",
    "                #  Note.  Looks like Roots works with BigFloat, but NOT ArbComplex\n",
    "using Printf\n",
    "\n",
    "using FromFile\n",
    "@from \"tools.jl\" import tools\n",
    "@from \"dispersion_tools_mtsi.jl\" import dispersion_tools_mtsi\n",
    "\n",
    "pd = dispersion_tools_mtsi\n"
   ]
  },
  {
   "cell_type": "code",
   "execution_count": 47,
   "id": "aggressive-homeless",
   "metadata": {},
   "outputs": [
    {
     "data": {
      "text/plain": [
       "compute_derived_parameters (generic function with 1 method)"
      ]
     },
     "execution_count": 47,
     "metadata": {},
     "output_type": "execute_result"
    }
   ],
   "source": [
    "function compute_derived_parameters(omegahat, kxhat, kzhat, mu, eta, tau_e, tau_b, u, sigma)\n",
    "    khat = sqrt(kxhat^2 + kzhat^2)\n",
    "    ub = u / sqrt(tau_b)\n",
    "    ue = u / sqrt(mu * tau_e)\n",
    "    vteSq_over_USq = 1 / (2 * ue^2)\n",
    "\n",
    "    omegaLHbSq_over_OmegaeSq = 1 / (mu * (sigma+1) * (eta+1))\n",
    "    omegaLHbSq_over_omegapeSq = sigma / (mu * (sigma+1) * (eta+1))\n",
    "    kSq_times_lambdaDeSq = khat^2 * vteSq_over_USq * omegaLHbSq_over_omegapeSq\n",
    "    lambdaDeSq_over_lambdaDbSq = tau_e / (tau_b * (eta + 1))\n",
    "    lambdaDeSq_over_lambdaDcSq = tau_e * eta / (eta + 1)\n",
    "\n",
    "    zeta_b = (omegahat - kxhat) / (khat / ub)\n",
    "    zeta_c = omegahat / (khat / u)\n",
    "    zeta_e = omegahat / (kzhat / ue)\n",
    "    \n",
    "    lambda = kxhat^2 * vteSq_over_USq * omegaLHbSq_over_OmegaeSq\n",
    "    \n",
    "    println(\"ub = $(@sprintf(\"%.2f\", ub))\")\n",
    "    println(\"ue = $(@sprintf(\"%.2f\", ue))\")\n",
    "    println(\"ω_LHb^2 / Ω_e^2 = $(@sprintf(\"%.2e\", omegaLHbSq_over_OmegaeSq))\")\n",
    "    println(\"k^2 λ_De^2 = $(@sprintf(\"%.2e\", kSq_times_lambdaDeSq))\")\n",
    "    println(\"ζ_b = $(@sprintf(\"%.2e\", real(zeta_b))) + i*$(@sprintf(\"%.2e\", imag(zeta_b)))\")\n",
    "    println(\"ζ_c = $(@sprintf(\"%.2e\", real(zeta_c))) + i*$(@sprintf(\"%.2e\", imag(zeta_c)))\")\n",
    "    println(\"ζ_e = $(@sprintf(\"%.2e\", real(zeta_e))) + i*$(@sprintf(\"%.2e\", imag(zeta_e)))\")\n",
    "    println(\"λ = $(@sprintf(\"%.2e\", lambda))\")\n",
    "end"
   ]
  },
  {
   "cell_type": "code",
   "execution_count": 697,
   "id": "satellite-judgment",
   "metadata": {},
   "outputs": [
    {
     "data": {
      "image/png": "[encoded data removed]",
      "text/plain": [
       "PyPlot.Figure(PyObject <Figure size 640x480 with 1 Axes>)"
      ]
     },
     "metadata": {},
     "output_type": "display_data"
    },
    {
     "data": {
      "text/plain": [
       "1-element Vector{PyCall.PyObject}:\n",
       " PyObject <matplotlib.lines.Line2D object at 0x000000000A9B53A0>"
      ]
     },
     "execution_count": 697,
     "metadata": {},
     "output_type": "execute_result"
    }
   ],
   "source": [
    "# squircle parameters\n",
    "#a = 0.996  # squareness\n",
    "a = 0.996  # squareness\n",
    "Rx = 45   # center of recturcle in x  (omega_r)\n",
    "rx = 15    # half-length of recturcle in x (omega_r)\n",
    "Ry = 1  # with small epsilon, max of squircle in y goes to 2*Ry (omega_i)\n",
    "epsilon = 1e-3    # bottom of squircle in omega_i\n",
    "\n",
    "# Ry = 0.15  # with small epsilon, max of squircle in y goes to 2*Ry (omega_i)\n",
    "# epsilon = 1e-4    # bottom of squircle in omega_i\n",
    "\n",
    "smallnum = 1e-4   # small number in how squircle is parameterized\n",
    "params = tools.Sqparams(a, Rx, Ry, rx, epsilon, smallnum);\n",
    "\n",
    "visualize = true\n",
    "if visualize\n",
    "    N = 500\n",
    "    theta = tools.theta_circle(N)\n",
    "    points_on_squircle = zeros(ComplexF64, N)\n",
    "    for j = 1:N\n",
    "        points_on_squircle[j] = tools.gamma(theta[j], params)\n",
    "    end\n",
    "    z = points_on_squircle;\n",
    "    plt.plot(real(z), imag(z)) \n",
    "end"
   ]
  },
  {
   "cell_type": "code",
   "execution_count": 739,
   "id": "sunrise-negotiation",
   "metadata": {},
   "outputs": [
    {
     "data": {
      "text/plain": [
       "DDprime (generic function with 1 method)"
      ]
     },
     "execution_count": 739,
     "metadata": {},
     "output_type": "execute_result"
    }
   ],
   "source": [
    "mu = 1836\n",
    "eta = 100\n",
    "tau_e = 1\n",
    "tau_b = 10   # T_beam / T_core\n",
    "u = 15\n",
    "sigma = 1 # 1e-3    # Ω_e^2 / ω_pe^2\n",
    "\n",
    "#khat = 14.3\n",
    "khat = 57\n",
    "# phi = sqrt(1/mu)   # .023\n",
    "phi = sqrt(1/(eta+1))   # 0.1\n",
    "# khat = 10.5\n",
    "# phi = 0.0001\n",
    "\n",
    "kxhat = khat * cos(phi)\n",
    "kzhat = khat * sin(phi)\n",
    "\n",
    "function D(omegahat)\n",
    "    D, Dprime = dispersion_tools_mtsi.D_bcMTSI(omegahat, kxhat, kzhat, mu, eta, tau_e, tau_b, u, sigma)\n",
    "    return D\n",
    "end\n",
    "\n",
    "function Dprime(omegahat)\n",
    "    D, Dprime = dispersion_tools_mtsi.D_bcMTSI(omegahat, kxhat, kzhat, mu, eta, tau_e, tau_b, u, sigma)\n",
    "    return Dprime\n",
    "end\n",
    "\n",
    "function DDprime(omegahat)\n",
    "    D, Dprime = dispersion_tools_mtsi.D_bcMTSI(omegahat, kxhat, kzhat, mu, eta, tau_e, tau_b, u, sigma)\n",
    "    return D, Dprime\n",
    "end"
   ]
  },
  {
   "cell_type": "code",
   "execution_count": 740,
   "id": "acknowledged-conspiracy",
   "metadata": {},
   "outputs": [],
   "source": [
    "# omegaguess = 12.785102354806147 + 0.16274564851058204im\n",
    "# Roots.find_zero((D,Dprime), omegaguess, Roots.Newton())"
   ]
  },
  {
   "cell_type": "code",
   "execution_count": 741,
   "id": "valuable-brook",
   "metadata": {},
   "outputs": [
    {
     "name": "stdout",
     "output_type": "stream",
     "text": [
      "Number of zeros found: 1\n"
     ]
    },
    {
     "data": {
      "text/plain": [
       "1-element Vector{ComplexF64}:\n",
       " 48.464689092311495 + 0.026784809976156402im"
      ]
     },
     "execution_count": 741,
     "metadata": {},
     "output_type": "execute_result"
    }
   ],
   "source": [
    "Npts = 20000\n",
    "num_zeros = tools.count_zeros_inside_sq_contour(D, Npts, params)\n",
    "println(\"Number of zeros found: \", num_zeros)\n",
    "if num_zeros != 0\n",
    "    roots = tools.all_roots(DDprime, num_zeros, Npts, params)\n",
    "end"
   ]
  },
  {
   "cell_type": "code",
   "execution_count": 742,
   "id": "built-passenger",
   "metadata": {},
   "outputs": [
    {
     "name": "stdout",
     "output_type": "stream",
     "text": [
      "Before refining: D(ω) = 1.1018963519404679e-14 + 9.850822414725346e-14im\n",
      "48.46468909231017 + 0.02678480995093041im\n",
      "After refining: D(ω) = -1.8596235662471372e-15 - 8.673617379884035e-19im\n"
     ]
    }
   ],
   "source": [
    "# refine the root\n",
    "println(\"Before refining: D(ω) = \", D(roots[1]))\n",
    "newroot = Roots.find_zero(D, roots[1], Roots.Secant())\n",
    "omegahat = newroot\n",
    "println(newroot)\n",
    "println(\"After refining: D(ω) = \", D(newroot))\n"
   ]
  },
  {
   "cell_type": "code",
   "execution_count": 630,
   "id": "excessive-savage",
   "metadata": {},
   "outputs": [
    {
     "name": "stdout",
     "output_type": "stream",
     "text": [
      "ub = 4.74\n",
      "ue = 0.35\n",
      "ω_LHb^2 / Ω_e^2 = 2.70e-06\n",
      "k^2 λ_De^2 = 1.33e-03\n",
      "ζ_b = -6.58e-01 + i*2.97e-01\n",
      "ζ_c = 1.29e+01 + i*9.40e-01\n",
      "ζ_e = 3.01e+03 + i*2.19e+02\n",
      "λ = 1.33e-03\n"
     ]
    }
   ],
   "source": [
    "#computed_derived_paramaters = pd.compute_derived_parameters\n",
    "# omegahat = roots[1]\n",
    "compute_derived_parameters(omegahat, kxhat, kzhat, mu, eta, tau_e, tau_b, u, sigma)"
   ]
  },
  {
   "cell_type": "code",
   "execution_count": null,
   "id": "unable-examination",
   "metadata": {},
   "outputs": [],
   "source": []
  }
 ],
 "metadata": {
  "kernelspec": {
   "display_name": "Julia 1.7.2",
   "language": "julia",
   "name": "julia-1.7"
  },
  "language_info": {
   "file_extension": ".jl",
   "mimetype": "application/julia",
   "name": "julia",
   "version": "1.7.2"
  }
 },
 "nbformat": 4,
 "nbformat_minor": 5
}
